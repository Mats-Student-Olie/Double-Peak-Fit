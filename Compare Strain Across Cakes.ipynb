{
 "cells": [
  {
   "cell_type": "markdown",
   "metadata": {},
   "source": [
    "## Import packages"
   ]
  },
  {
   "cell_type": "code",
   "execution_count": 1,
   "metadata": {},
   "outputs": [],
   "source": [
    "#import the models and plotting tools\n",
    "\n",
    "import numpy as np\n",
    "import matplotlib.pyplot as plt\n",
    "from lmfit.models import PseudoVoigtModel  ##error: No module named 'lmfit'\n",
    "from lmfit import Model\n",
    "from lmfit.parameter import Parameters\n",
    "from ipywidgets import FloatProgress\n",
    "from IPython.display import display\n",
    "from pathlib import Path\n",
    "from scipy.signal import medfilt\n",
    "from ipywidgets import HBox, FloatSlider\n",
    "import glob, os\n",
    "import imageio\n",
    "from matplotlib.pyplot import close\n",
    "import ipywidgets as widgets\n",
    "from ipywidgets import fixed\n",
    "import time\n",
    "import os\n",
    "import pickle\n",
    "\n",
    "#import diamond_functions as dia\n",
    "from diamond_functions import *\n",
    "from Analysis_and_plot_functions import *\n",
    "\n",
    "#for graphs inline with the text on mac and widows...\n",
    "%matplotlib inline\n",
    "\n",
    "#%load_ext autoreload\n",
    "#%autoreload 2\n",
    "\n",
    "#for interactive graphs inline with the text on mac and widows...\n",
    "#%matplotlib interactive\n",
    "#best for pop-out graphs on windows...\n",
    "#%matplotlib tk\n",
    "#best for pop-out graphs on mac...\n",
    "# %matplotlib\n",
    "#for pop-out graphs on mac and windows, but it's a bit dodgey...\n",
    "#%matplotlib qt"
   ]
  },
  {
   "cell_type": "markdown",
   "metadata": {},
   "source": [
    "## Adjusting plot parameters"
   ]
  },
  {
   "cell_type": "code",
   "execution_count": 2,
   "metadata": {},
   "outputs": [],
   "source": [
    "plt.rc('xtick',labelsize=20)\n",
    "plt.rc('ytick',labelsize=20)\n",
    "plt.rc('legend',fontsize=20)\n",
    "plt.rc('axes',linewidth=2)\n",
    "plt.rc('xtick.major',width=2,size=10)\n",
    "plt.rc('xtick.minor', width=2, size=5)\n",
    "plt.rc('ytick.major',width=2,size=10)\n",
    "plt.rc('ytick.minor',width=2,size=5)"
   ]
  },
  {
   "cell_type": "markdown",
   "metadata": {},
   "source": [
    "## Define directory & fileprefix:"
   ]
  },
  {
   "cell_type": "code",
   "execution_count": 3,
   "metadata": {},
   "outputs": [
    {
     "name": "stdout",
     "output_type": "stream",
     "text": [
      "Pickle files directory = C:\\Users\\mbgnwob2\\Dropbox (The University of Manchester)\\2. Project\\Python Script\\Single Peak Fitting Script ORIGINAL - Copy\\Looped Fit Results\n",
      "Output folder is: C:\\Users\\mbgnwob2\\Dropbox (The University of Manchester)\\2. Project\\Python Script\\Single Peak Fitting Script ORIGINAL - Copy\\Looped Fit Results\\Plots\n"
     ]
    }
   ],
   "source": [
    "base_dir= r'C:\\Users\\mbgnwob2\\Dropbox (The University of Manchester)\\2. Project\\Python Script\\Single Peak Fitting Script ORIGINAL - Copy'\n",
    "pickles_dir = base_dir + '\\Looped Fit Results'\n",
    "out_dir = base_dir + '\\Looped Fit Results\\Plots'\n",
    "pickle_ftype = '\\*.pickle'\n",
    "\n",
    "print('Pickle files directory = ' + pickles_dir)\n",
    "print('Output folder is: ' + out_dir)"
   ]
  },
  {
   "cell_type": "markdown",
   "metadata": {},
   "source": [
    "## Load a data file"
   ]
  },
  {
   "cell_type": "markdown",
   "metadata": {},
   "source": [
    "Enter which peak file you wish to analyse:"
   ]
  },
  {
   "cell_type": "code",
   "execution_count": 4,
   "metadata": {
    "scrolled": true
   },
   "outputs": [
    {
     "data": {
      "text/plain": [
       "Text(0.5, 1.0, 'Sample 2')"
      ]
     },
     "execution_count": 4,
     "metadata": {},
     "output_type": "execute_result"
    },
    {
     "data": {
      "image/png": "[encoded data removed]",
      "text/plain": [
       "<Figure size 432x288 with 1 Axes>"
      ]
     },
     "metadata": {
      "needs_background": "light"
     },
     "output_type": "display_data"
    }
   ],
   "source": [
    "## Load mechanical data from file\n",
    "\n",
    "##Sample2\n",
    "Eng_stress = np.loadtxt(base_dir + '\\Stress_strain_Tension_Samp2.txt', usecols=0)\n",
    "Eng_stress = Eng_stress[:-1]\n",
    "Eng_strain = np.loadtxt(base_dir + '\\Stress_strain_Tension_Samp2.txt', usecols=1)\n",
    "Eng_strain = Eng_strain[:-1]\n",
    "plt.plot(Eng_strain, Eng_stress, label = 'Engineering Stress')\n",
    "plt.legend(loc=2, bbox_to_anchor=(1, 1))\n",
    "plt.ylabel('Stress, $\\sigma$ (MPa)', fontsize=28)\n",
    "plt.xlabel('Strain, ${\\epsilon}$', fontsize=28)\n",
    "plt.title('Sample 2')"
   ]
  },
  {
   "cell_type": "code",
   "execution_count": 5,
   "metadata": {},
   "outputs": [
    {
     "name": "stdout",
     "output_type": "stream",
     "text": [
      "Number of files in dir =  108\n",
      "Length of names list:  108\n"
     ]
    }
   ],
   "source": [
    "## Load in all intensity files and chack how many exist ##update location required\n",
    "dicts = glob.glob(pickles_dir + pickle_ftype)\n",
    "num_dicts=len(dicts)\n",
    "dics_list = list(dicts)\n",
    "\n",
    "\n",
    "print('Number of files in dir = ', num_dicts)\n",
    "dic_names = []\n",
    "for i in dics_list:\n",
    "    x = (i.split('\\\\')[-1])\n",
    "    dic_names.append(x)\n",
    "print('Length of names list: ', len(dic_names))\n",
    "#for i in dic_names:\n",
    "    #print(i)"
   ]
  },
  {
   "cell_type": "code",
   "execution_count": 6,
   "metadata": {},
   "outputs": [],
   "source": [
    "pp_range_rad = np.arange(0, (2*pi), ((2*pi)/36))\n",
    "pp_range_deg = pp_range_rad*(180/pi)\n",
    "pp_range_cake = pp_range_deg/10\n",
    "cake_nums = []\n",
    "for i in pp_range_cake:\n",
    "    cake = str(int(round(i)))\n",
    "    cake_nums.append(cake)\n",
    "#print(cake_nums)\n",
    "#print(pp_range_rad)"
   ]
  },
  {
   "cell_type": "markdown",
   "metadata": {},
   "source": [
    "## Unpack & sort matrix data"
   ]
  },
  {
   "cell_type": "code",
   "execution_count": 7,
   "metadata": {},
   "outputs": [],
   "source": [
    "##unpack pickles\n",
    "\n",
    "list_ZrH_peaks, list_ZrH_peak_centres, list_ZrH_peak_fwhm, list_ZrH_peak_amplitude, list_ZrH_peak_height, list_matrix_peaks, list_matrix_peak_centers, list_matrix_peak_fwhm, list_matrix_peak_amplitude, list_matrix_peak_height = unpack_pickles(dic_names, pickles_dir)"
   ]
  },
  {
   "cell_type": "code",
   "execution_count": 8,
   "metadata": {},
   "outputs": [
    {
     "name": "stdout",
     "output_type": "stream",
     "text": [
      "138\n",
      "108\n",
      "Number of pickle files = 138 \n",
      "Number of steps = 58\n"
     ]
    }
   ],
   "source": [
    "print(len(list_matrix_peaks))\n",
    "print(len(list_ZrH_peaks))\n",
    "\n",
    "print('Number of pickle files = {}'.format(len(list_matrix_peak_centers)),'\\nNumber of steps = {}'.format(len(list_matrix_peak_centers[0])))\n",
    "x = len(list_matrix_peak_centers)*len(list_matrix_peak_centers[0])"
   ]
  },
  {
   "cell_type": "code",
   "execution_count": 9,
   "metadata": {},
   "outputs": [],
   "source": [
    "## pickles were unpacked in an unordered list\n",
    "# use order_peaks)n_cakes to generate lists of the order\n",
    "\n",
    "matrix_peak_names = ['(01-10)', '(11-20)', '(02-20)', '(01-13)']\n",
    "\n",
    "m_cakes_list, m_peaks_list, z_cakes_list, z_peaks_list = order_peaks_n_cakes(list_matrix_peaks, list_ZrH_peaks)\n",
    "\n",
    "#print(len(m_cakes_list), len(m_peaks_list), m_cakes_list,'\\n', m_peaks_list, '\\n')\n",
    "#print(len(z_cakes_list), len(z_peaks_list), z_cakes_list, z_peaks_list)"
   ]
  },
  {
   "cell_type": "code",
   "execution_count": 10,
   "metadata": {},
   "outputs": [],
   "source": [
    "#Convert peak centres to lattice strain\n",
    "\n",
    "m_strains_list = []\n",
    "\n",
    "for i in list_matrix_peak_centers:\n",
    "    L_strain = calc_strain_singlepoint(i)*1e6\n",
    "    L_strain = list(L_strain)\n",
    "    m_strains_list.append(L_strain)\n",
    "    \n",
    "#print(len(m_strains_list[17]))"
   ]
  },
  {
   "cell_type": "code",
   "execution_count": 11,
   "metadata": {},
   "outputs": [],
   "source": [
    "##arrange all matrix data by peak (original format = as seperate lists, new format = [peak][cake][step])\n",
    "\n",
    "m_strains_by_peak, m_cakes_by_peak, m_peaks_by_peak, m_fwhm_by_peak, m_amp_by_peak, m_cntr_by_peak, m_height_by_peak = all_mx_by_peak(m_peaks_list, m_cakes_list, m_strains_list, list_matrix_peak_fwhm, list_matrix_peak_amplitude, list_matrix_peak_centers, list_matrix_peak_height)"
   ]
  },
  {
   "cell_type": "code",
   "execution_count": 12,
   "metadata": {},
   "outputs": [],
   "source": [
    "## convert from pervious format to: [peak][step][cake]\n",
    "\n",
    "m_strains2, m_fwhm2, m_amp2, m_cntr2, m_height2 = arrange_mx_pk_step(m_strains_by_peak, m_cakes_by_peak, m_peaks_by_peak, m_fwhm_by_peak, m_amp_by_peak, m_cntr_by_peak, m_height_by_peak)\n",
    "\n",
    "#print(len(m_strains2), len(m_fwhm2), len(m_amp2), len(m_cntr2))\n",
    "#print(len(m_strains2[0]), len(m_fwhm2[0]), len(m_amp2[0]), len(m_cntr2[0]))\n",
    "#print(len(m_strains2[1][0]), len(m_fwhm2[1][0]), len(m_amp2[1][0]), len(m_cntr2[1][0]))"
   ]
  },
  {
   "cell_type": "code",
   "execution_count": 13,
   "metadata": {},
   "outputs": [
    {
     "data": {
      "application/vnd.jupyter.widget-view+json": {
       "model_id": "469fe93377d746afa85607790f0573ef",
       "version_major": 2,
       "version_minor": 0
      },
      "text/plain": [
       "interactive(children=(IntSlider(value=0, description='step', max=234, step=5), Output()), _dom_classes=('widge…"
      ]
     },
     "metadata": {},
     "output_type": "display_data"
    },
    {
     "data": {
      "text/plain": [
       "<function Analysis_and_plot_functions.mx_fwhm_plt_by_steps(step, pp_range_rad, m_fwhm2, matrix_peak_names, cake_nums)>"
      ]
     },
     "execution_count": 13,
     "metadata": {},
     "output_type": "execute_result"
    }
   ],
   "source": [
    "##Test plot\n",
    "##Data looks like this: m_strains2[peak][step][cake-strain]\n",
    "\n",
    "plt.rc('xtick', labelsize=10)\n",
    "plt.rc('ytick', labelsize=10)\n",
    "\n",
    "widgets.interact(mx_fwhm_plt_by_steps, step=steps_slide_bar(), pp_range_rad=fixed(pp_range_rad), m_fwhm2=fixed(m_fwhm2), matrix_peak_names=fixed(matrix_peak_names), cake_nums=fixed(cake_nums))"
   ]
  },
  {
   "cell_type": "code",
   "execution_count": 14,
   "metadata": {},
   "outputs": [
    {
     "data": {
      "application/vnd.jupyter.widget-view+json": {
       "model_id": "66f801af13de4a2095d32930aee15fcc",
       "version_major": 2,
       "version_minor": 0
      },
      "text/plain": [
       "interactive(children=(IntSlider(value=0, description='step', max=234, step=5), Output()), _dom_classes=('widge…"
      ]
     },
     "metadata": {},
     "output_type": "display_data"
    },
    {
     "data": {
      "text/plain": [
       "<function Analysis_and_plot_functions.mx_amp_plt_by_steps(step, pp_range_rad, m_amp2, matrix_peak_names, cake_nums)>"
      ]
     },
     "execution_count": 14,
     "metadata": {},
     "output_type": "execute_result"
    }
   ],
   "source": [
    "widgets.interact(mx_amp_plt_by_steps, step=steps_slide_bar(), pp_range_rad=fixed(pp_range_rad), m_amp2=fixed(m_amp2), matrix_peak_names=fixed(matrix_peak_names), cake_nums=fixed(cake_nums))"
   ]
  },
  {
   "cell_type": "markdown",
   "metadata": {},
   "source": [
    "## Sort Hydride Peaks"
   ]
  },
  {
   "cell_type": "code",
   "execution_count": 15,
   "metadata": {},
   "outputs": [],
   "source": [
    "#Convert zrh peak centres to lattice strain\n",
    "z_strains_list = []\n",
    "\n",
    "for i in list_ZrH_peak_centres:\n",
    "    L_strain = calc_strain_singlepoint(i)*1e6\n",
    "    L_strain = list(L_strain)\n",
    "    z_strains_list.append(L_strain)\n",
    "\n",
    "zrh_pk_names = ['111', '220', '311']\n",
    "        \n",
    "peak_cake_pos, peak_centres, z_fwhm, z_amp, z_height = all_zrh_by_peak(zrh_pk_names, list_ZrH_peaks, list_ZrH_peak_centres, list_ZrH_peak_fwhm, list_ZrH_peak_amplitude, list_ZrH_peak_height)"
   ]
  },
  {
   "cell_type": "code",
   "execution_count": 16,
   "metadata": {},
   "outputs": [],
   "source": [
    "z_strains_by_peak, z_cakes_by_peak, z_fwhm_by_peak, z_amp_by_peak, z_cntr_by_peak, z_height_by_peak = arrange_zrh_by_peak(z_peaks_list, z_cakes_list, z_strains_list, list_ZrH_peak_fwhm, list_ZrH_peak_amplitude, list_ZrH_peak_centres, list_ZrH_peak_height)"
   ]
  },
  {
   "cell_type": "code",
   "execution_count": 17,
   "metadata": {},
   "outputs": [],
   "source": [
    "##re-arrange zrh data into format: [peak][step][cake-strain]\n",
    "\n",
    "z_strains2, z_fwhm2, z_amp2, z_cntr2, z_height2 = arrange_zrh_pk_step(z_strains_by_peak, z_fwhm_by_peak, z_amp_by_peak, z_cntr_by_peak, z_height_by_peak)"
   ]
  },
  {
   "cell_type": "code",
   "execution_count": 18,
   "metadata": {},
   "outputs": [
    {
     "data": {
      "application/vnd.jupyter.widget-view+json": {
       "model_id": "f74996ea8bf94452a6ac5afdbfe23a28",
       "version_major": 2,
       "version_minor": 0
      },
      "text/plain": [
       "interactive(children=(IntSlider(value=0, description='step', max=234, step=5), Output()), _dom_classes=('widge…"
      ]
     },
     "metadata": {},
     "output_type": "display_data"
    },
    {
     "data": {
      "text/plain": [
       "<function Analysis_and_plot_functions.zrh_fwhm_plt_by_steps(step, pp_range_rad, z_fwhm2, zrh_pk_names, cake_nums)>"
      ]
     },
     "execution_count": 18,
     "metadata": {},
     "output_type": "execute_result"
    }
   ],
   "source": [
    "##Test plot\n",
    "##Data looks like this: m_strains2[peak][step][cake-strain]\n",
    "\n",
    "plt.rc('xtick', labelsize=10)\n",
    "plt.rc('ytick', labelsize=10)\n",
    "\n",
    "widgets.interact(zrh_fwhm_plt_by_steps, step=steps_slide_bar(), pp_range_rad=fixed(pp_range_rad), z_fwhm2=fixed(z_fwhm2), zrh_pk_names=fixed(zrh_pk_names), cake_nums=fixed(cake_nums))"
   ]
  },
  {
   "cell_type": "code",
   "execution_count": 19,
   "metadata": {},
   "outputs": [
    {
     "data": {
      "application/vnd.jupyter.widget-view+json": {
       "model_id": "d88285fffbe04491808e69c5ab034a00",
       "version_major": 2,
       "version_minor": 0
      },
      "text/plain": [
       "interactive(children=(IntSlider(value=0, description='step', max=234, step=5), Output()), _dom_classes=('widge…"
      ]
     },
     "metadata": {},
     "output_type": "display_data"
    },
    {
     "data": {
      "text/plain": [
       "<function Analysis_and_plot_functions.zrh_amp_plt_by_steps(step, pp_range_rad, z_amp2, zrh_pk_names, cake_nums)>"
      ]
     },
     "execution_count": 19,
     "metadata": {},
     "output_type": "execute_result"
    }
   ],
   "source": [
    "widgets.interact(zrh_amp_plt_by_steps, step=steps_slide_bar(), pp_range_rad=fixed(pp_range_rad), z_amp2=fixed(z_amp2), zrh_pk_names=fixed(zrh_pk_names), cake_nums=fixed(cake_nums))"
   ]
  },
  {
   "cell_type": "markdown",
   "metadata": {},
   "source": [
    "## Investigate difference in stress/ strain etc accross opposites\n"
   ]
  },
  {
   "cell_type": "code",
   "execution_count": null,
   "metadata": {},
   "outputs": [],
   "source": [
    "###strains_list2[peak][step][cake-strain]\n",
    "\n",
    "diffs = [[],[],[]]\n",
    "\n",
    "for i in range(36): #'111''56' = 36\n",
    "    cake = i\n",
    "    opp = i+36/2\n",
    "    if opp >= 36:\n",
    "        opp = -18+i\n",
    "    opp = int(opp)\n",
    "    \n",
    "    for j in range(3):\n",
    "        if z_strains2[j][56][cake] == 0 or z_strains2[j][56][opp] == 0: \n",
    "            diff = 0\n",
    "            diffs[j].append(diff)\n",
    "\n",
    "        else:\n",
    "            diff = z_strains2[j][56][cake] - z_strains2[j][56][opp]\n",
    "            diffs[j].append(diff)\n",
    "        \n",
    "for k, peak in enumerate(pk_names):\n",
    "    print(peak)\n",
    "    for j in range(36):\n",
    "        opp = j+int(36/2)\n",
    "        if opp >= 36:\n",
    "            opp = -18+j\n",
    "        #print(j, '\\t', int(z_strains2[k][56][j]), '\\t', opp, '\\t', int(z_strains2[k][56][opp]),'\\t', diffs[k][j])\n",
    "    #print('\\n')\n"
   ]
  },
  {
   "cell_type": "code",
   "execution_count": null,
   "metadata": {},
   "outputs": [],
   "source": [
    "###strains_list2[peak][step][cake-strain]\n",
    "plt.rc('xtick', labelsize=10)\n",
    "plt.rc('ytick', labelsize=10)\n",
    "\n",
    "\n",
    "fig, ax = plt.subplots(figsize=(10, 10))\n",
    "ax = plt.subplot(111, projection='polar')\n",
    "ax.plot(pp_range_rad, medfilt(diffs[0], 3), label = '(111)')\n",
    "ax.plot(pp_range_rad, medfilt(diffs[1], 3), label = '(220)')\n",
    "#ax.plot(pp_range_rad, diffs[2], label = '(311)')\n",
    "ax.legend(loc = 0, bbox_to_anchor = (1.1, 1.1))\n",
    "ax.set_rlabel_position(0)  # Move radial labels away from plotted line\n",
    "ax.set_theta_direction(-1)\n",
    "ax.set_theta_zero_location('N', offset=0)\n",
    "ax.set_xticks(np.pi/180. * np.linspace(0, 360, 36, endpoint=False))\n",
    "ax.set_rorigin(-2000)\n",
    "#ax.set_rmax(30000)\n",
    "#ax.set_rmin(-5000)\n",
    "ax.set_xticklabels(cake_nums)\n",
    "title = 'S2_Difference in opposing hydride strain_S56 \\n\\n *Difference, in microstrain on radial axis \\n *Cake position on theta axis'\n",
    "ax.set_title(title, va='bottom')\n",
    "\n",
    "gridlines = ax.yaxis.get_gridlines()\n",
    "gridlines[3].set_color(\"grey\")\n",
    "gridlines[3].set_linewidth(2.5)\n",
    "\n",
    "plt.show()\n",
    "\n",
    "plot_name= str(out_dir+'\\\\'+'difference in opposing strains_hydride_111_220')\n",
    "#print(plot_name)\n",
    "fig.savefig(plot_name, bbox_inches='tight')"
   ]
  },
  {
   "cell_type": "code",
   "execution_count": null,
   "metadata": {},
   "outputs": [],
   "source": [
    "###strains_list2[peak][step][cake-strain]\n",
    "\n",
    "pcnt_diffs = [[],[],[]] # strain c0 - strain c18/strain c18\n",
    "\n",
    "for i in range(36): #'111''56' = 36\n",
    "    cake = i\n",
    "    opp = i+36/2\n",
    "    if opp >= 36:\n",
    "        opp = -18+i\n",
    "    opp = int(opp)\n",
    "    \n",
    "    for j in range(3):\n",
    "        if z_strains2[j][56][cake] == 0 or z_strains2[j][56][opp] == 0: \n",
    "            diff = 0\n",
    "            pcnt_diffs[j].append(diff)\n",
    "\n",
    "        else:\n",
    "            diff = 100*(z_strains2[j][56][cake] - z_strains2[j][56][opp])/z_strains2[j][56][opp]\n",
    "            pcnt_diffs[j].append(diff)\n",
    "        \n",
    "for k, peak in enumerate(pk_names):\n",
    "    print(peak)\n",
    "    for j in range(36):\n",
    "        opp = j+int(36/2)\n",
    "        if opp >= 36:\n",
    "            opp = -18+j\n",
    "        #print(j, '\\t', int(z_strains2[k][56][j]), '\\t', opp, '\\t', int(z_strains2[k][56][opp]),'\\t', pcnt_diffs[k][j])\n",
    "    #print('\\n')\n"
   ]
  },
  {
   "cell_type": "code",
   "execution_count": null,
   "metadata": {},
   "outputs": [],
   "source": [
    "###strains_list2[peak][step][cake-strain]\n",
    "plt.rc('xtick', labelsize=10)\n",
    "plt.rc('ytick', labelsize=10)\n",
    "\n",
    "\n",
    "fig, ax = plt.subplots(figsize=(8, 8))\n",
    "ax = plt.subplot(111, projection='polar')\n",
    "ax.plot(pp_range_rad, medfilt(pcnt_diffs[0], 3), label = '(111)')\n",
    "ax.plot(pp_range_rad, medfilt(pcnt_diffs[1], 3), label = '(220)')\n",
    "#ax.plot(pp_range_rad, pcnt_diffs[2], label = '(311)')\n",
    "ax.legend(loc = 0, bbox_to_anchor = (1.1, 1.1))\n",
    "ax.set_rlabel_position(0)  # Move radial labels away from plotted line\n",
    "ax.set_theta_direction(-1)\n",
    "ax.set_theta_zero_location('N', offset=0)\n",
    "ax.set_xticks(np.pi/180. * np.linspace(0, 360, 36, endpoint=False))\n",
    "ax.set_rorigin(-100)\n",
    "#ax.set_rmax(30000)\n",
    "#ax.set_rmin(-5000)\n",
    "ax.set_xticklabels(cake_nums)\n",
    "\n",
    "gridlines = ax.yaxis.get_gridlines()\n",
    "gridlines[4].set_color(\"grey\")\n",
    "gridlines[4].set_linewidth(2.5)\n",
    "\n",
    "plt.show()\n",
    "\n",
    "plot_name= str(out_dir+'\\\\'+'difference')\n",
    "#print(plot_name)\n",
    "\n",
    "fig.savefig(plot_name, bbox_inches='tight')"
   ]
  },
  {
   "cell_type": "markdown",
   "metadata": {},
   "source": [
    "## Williamson Hall Plots"
   ]
  },
  {
   "cell_type": "code",
   "execution_count": 20,
   "metadata": {},
   "outputs": [],
   "source": [
    "##Let's set up some constants \n",
    "C_zrh_h00 = 3.2\n",
    "C_mx_h00 = 3.2\n",
    "q_zrh = 2.5\n",
    "q_mx = 0.5\n",
    "wavelength = 0.0141565"
   ]
  },
  {
   "cell_type": "code",
   "execution_count": 21,
   "metadata": {},
   "outputs": [],
   "source": [
    "## And now calculate some parameters\n",
    "\n",
    "Hsqd_zrh111 = H_sqd(1,1,1)\n",
    "Hsqd_zrh200 = H_sqd(2,0,0)\n",
    "Hsqd_zrh220 = H_sqd(2,2,0)\n",
    "Hsqd_zrh311 = H_sqd(3,1,1)\n",
    "Hsqd_zrh = [Hsqd_zrh111, Hsqd_zrh220, Hsqd_zrh311]\n",
    "\n",
    "Hsqd_mx100 = H_sqd(1,0,0)\n",
    "Hsqd_mx110 = H_sqd(1,1,0)\n",
    "Hsqd_mx200 = H_sqd(2,0,0)\n",
    "Hsqd_mx103 = H_sqd(1,0,3)\n",
    "Hsqd_mx = [Hsqd_mx100, Hsqd_mx110, Hsqd_mx200, Hsqd_mx103]\n",
    "\n",
    "C_zrh111 = Contrast_Factor(C_zrh_h00, q_zrh, Hsqd_zrh111)\n",
    "C_zrh200 = Contrast_Factor(C_zrh_h00, q_zrh, Hsqd_zrh200)\n",
    "C_zrh220 = Contrast_Factor(C_zrh_h00, q_zrh, Hsqd_zrh220)\n",
    "C_zrh311 = Contrast_Factor(C_zrh_h00, q_zrh, Hsqd_zrh311)\n",
    "C_zrh = [C_zrh111, C_zrh220, C_zrh311]\n",
    "\n",
    "C_mx100 = Contrast_Factor(C_mx_h00, q_mx, Hsqd_mx100)\n",
    "C_mx110 = Contrast_Factor(C_mx_h00, q_mx, Hsqd_mx110)\n",
    "C_mx200 = Contrast_Factor(C_mx_h00, q_mx, Hsqd_mx200)\n",
    "C_mx103 = Contrast_Factor(C_mx_h00, q_mx, Hsqd_mx103)\n",
    "C_mx = [C_mx100, C_mx110, C_mx200, C_mx103]"
   ]
  },
  {
   "cell_type": "code",
   "execution_count": 22,
   "metadata": {},
   "outputs": [],
   "source": [
    "K_zrh, dK_zrh, K_mx, dK_mx = WH_parameters_K_dK(z_cntr2, z_fwhm2, m_cntr2, m_fwhm2, wavelength)"
   ]
  },
  {
   "cell_type": "code",
   "execution_count": 23,
   "metadata": {},
   "outputs": [],
   "source": [
    "K_rootC_zrh, K_rootC_mx = K_root_C(K_zrh, C_zrh, K_mx, C_mx)"
   ]
  },
  {
   "cell_type": "code",
   "execution_count": 24,
   "metadata": {},
   "outputs": [
    {
     "data": {
      "image/png": "[encoded data removed]",
      "text/plain": [
       "<Figure size 1440x576 with 2 Axes>"
      ]
     },
     "metadata": {
      "needs_background": "light"
     },
     "output_type": "display_data"
    }
   ],
   "source": [
    "##W-H Plot for all \n",
    "\n",
    "cake = 0\n",
    "step = slice(None, None,1)\n",
    "\n",
    "W_H_Plots(cake, step, zrh_pk_names, K_rootC_zrh, dK_zrh, matrix_peak_names, K_rootC_mx,dK_mx)"
   ]
  },
  {
   "cell_type": "markdown",
   "metadata": {},
   "source": [
    "## Looking at line broardening: \n"
   ]
  },
  {
   "cell_type": "code",
   "execution_count": 25,
   "metadata": {},
   "outputs": [
    {
     "name": "stdout",
     "output_type": "stream",
     "text": [
      "58 58 58 36 36 36 36\n"
     ]
    }
   ],
   "source": [
    "print(len(m_strains_by_peak[0][0]), len(z_cntr2[0]), len(m_cntr2[0]), len(K_zrh[0]), len(dK_zrh[0]), len(K_mx[0]), len(dK_mx[0]))"
   ]
  },
  {
   "cell_type": "code",
   "execution_count": 26,
   "metadata": {},
   "outputs": [
    {
     "data": {
      "application/vnd.jupyter.widget-view+json": {
       "model_id": "1f936023a3f74507ac851e06dd2c5008",
       "version_major": 2,
       "version_minor": 0
      },
      "text/plain": [
       "interactive(children=(SelectMultiple(description='Choose Cakes', index=(0,), options=('0', '1', '2', '3', '4',…"
      ]
     },
     "metadata": {},
     "output_type": "display_data"
    },
    {
     "data": {
      "text/plain": [
       "<function Analysis_and_plot_functions.plt_fwhm_vs_strain(cakes, z_dK, mx_dK, Eng_strain, z_strains_by_peak, m_strains_by_peak)>"
      ]
     },
     "execution_count": 26,
     "metadata": {},
     "output_type": "execute_result"
    }
   ],
   "source": [
    "widgets.interact(plt_fwhm_vs_strain, cakes = cake_menu(), z_dK=fixed(dK_zrh), mx_dK=fixed(dK_mx), Eng_strain=fixed(Eng_strain), \n",
    "                 z_strains_by_peak=fixed(z_strains_by_peak), m_strains_by_peak=fixed(m_strains_by_peak))"
   ]
  },
  {
   "cell_type": "code",
   "execution_count": 27,
   "metadata": {},
   "outputs": [
    {
     "data": {
      "application/vnd.jupyter.widget-view+json": {
       "model_id": "b2bd4fd28279468cbf57999e258bfca0",
       "version_major": 2,
       "version_minor": 0
      },
      "text/plain": [
       "interactive(children=(SelectMultiple(description='Choose Cakes', index=(0,), options=('0', '1', '2', '3', '4',…"
      ]
     },
     "metadata": {},
     "output_type": "display_data"
    },
    {
     "data": {
      "text/plain": [
       "<function Analysis_and_plot_functions.plt_fwhm_vs_step(cakes, z_dK, mx_dK, Eng_strain, z_strains_by_peak, m_strains_by_peak)>"
      ]
     },
     "execution_count": 27,
     "metadata": {},
     "output_type": "execute_result"
    }
   ],
   "source": [
    "widgets.interact(plt_fwhm_vs_step, cakes=cake_menu(), z_dK=fixed(dK_zrh), mx_dK=fixed(dK_mx), Eng_strain=fixed(Eng_strain), \n",
    "                 z_strains_by_peak=fixed(z_strains_by_peak), m_strains_by_peak=fixed(m_strains_by_peak))"
   ]
  },
  {
   "cell_type": "code",
   "execution_count": null,
   "metadata": {},
   "outputs": [],
   "source": []
  },
  {
   "cell_type": "code",
   "execution_count": 28,
   "metadata": {},
   "outputs": [
    {
     "name": "stdout",
     "output_type": "stream",
     "text": [
      "Stored 'z_strains2' (list)\n",
      "Stored 'z_cntr2' (list)\n",
      "Stored 'm_strains2' (list)\n",
      "Stored 'm_cntr2' (list)\n",
      "Stored 'm_fwhm2' (list)\n",
      "Stored 'm_height2' (list)\n",
      "Stored 'z_fwhm2' (list)\n",
      "Stored 'm_amp2' (list)\n",
      "Stored 'z_amp2' (list)\n",
      "Stored 'z_height2' (list)\n"
     ]
    }
   ],
   "source": [
    "%store z_strains2\n",
    "%store z_cntr2\n",
    "%store m_strains2\n",
    "%store m_cntr2\n",
    "%store m_fwhm2\n",
    "%store m_height2\n",
    "%store z_fwhm2\n",
    "%store m_amp2\n",
    "%store z_amp2\n",
    "%store z_height2"
   ]
  },
  {
   "cell_type": "code",
   "execution_count": null,
   "metadata": {},
   "outputs": [],
   "source": []
  }
 ],
 "metadata": {
  "anaconda-cloud": {},
  "kernelspec": {
   "display_name": "Python 3",
   "language": "python",
   "name": "python3"
  },
  "language_info": {
   "codemirror_mode": {
    "name": "ipython",
    "version": 3
   },
   "file_extension": ".py",
   "mimetype": "text/x-python",
   "name": "python",
   "nbconvert_exporter": "python",
   "pygments_lexer": "ipython3",
   "version": "3.7.4"
  }
 },
 "nbformat": 4,
 "nbformat_minor": 4
}
